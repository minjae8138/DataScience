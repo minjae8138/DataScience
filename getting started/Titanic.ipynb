{
 "cells": [
  {
   "cell_type": "markdown",
   "metadata": {},
   "source": [
    "# Titanic: Machine Learning from Disaster"
   ]
  },
  {
   "cell_type": "code",
   "execution_count": null,
   "metadata": {},
   "outputs": [],
   "source": [
    "#load data\n",
    "import pandas as pd\n",
    "train=pd.read_csv('train.csv')\n",
    "train.head()\n",
    "test=pd.read_csv('test.csv')\n",
    "test.head()\n",
    "train.head()"
   ]
  },
  {
   "cell_type": "code",
   "execution_count": null,
   "metadata": {},
   "outputs": [],
   "source": [
    "from sklearn.ensemble import RandomForestClassifier\n",
    "\n",
    "y=train['Survived']\n",
    "\n",
    "features=['SibSp','Pclass','Parch','Sex']\n",
    "X_train=pd.get_dummies(train[features])\n",
    "X_test=pd.get_dummies(test[features])\n",
    "\n",
    "model=RandomForestClassifier(n_estimators=100,max_depth=5)\n",
    "model.fit(X_train,y)\n",
    "prediction=model.predict(X_test)\n",
    "prediction\n",
    "\n",
    "output=pd.DataFrame({'PassengerId': test.PassengerId, 'Survived': prediction})\n",
    "output.to_excel('titanic.csv')"
   ]
  }
 ],
 "metadata": {
  "kernelspec": {
   "display_name": "Python 3",
   "language": "python",
   "name": "python3"
  },
  "language_info": {
   "codemirror_mode": {
    "name": "ipython",
    "version": 3
   },
   "file_extension": ".py",
   "mimetype": "text/x-python",
   "name": "python",
   "nbconvert_exporter": "python",
   "pygments_lexer": "ipython3",
   "version": "3.7.4"
  }
 },
 "nbformat": 4,
 "nbformat_minor": 2
}
